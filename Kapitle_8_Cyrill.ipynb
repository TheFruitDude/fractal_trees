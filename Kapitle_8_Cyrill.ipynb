{
 "cells": [
  {
   "cell_type": "markdown",
   "metadata": {},
   "source": [
    "# Convolutional Neural Networks. Tensorflow basics.\n"
   ]
  },
  {
   "cell_type": "code",
   "execution_count": 16,
   "metadata": {},
   "outputs": [
    {
     "name": "stdout",
     "output_type": "stream",
     "text": [
      "WARNING:tensorflow:From /home/cyrill/anaconda3/lib/python3.7/site-packages/tensorflow_core/python/compat/v2_compat.py:88: disable_resource_variables (from tensorflow.python.ops.variable_scope) is deprecated and will be removed in a future version.\n",
      "Instructions for updating:\n",
      "non-resource variables are not supported in the long term\n",
      "42\n"
     ]
    }
   ],
   "source": [
    "import tensorflow.compat.v1 as tf\n",
    "tf.disable_v2_behavior()\n",
    "\n",
    "a = tf.Variable(10, name = 'a')\n",
    "b = tf.Variable(4, name = 'b')\n",
    "two = tf.constant(2)\n",
    "\n",
    "\n",
    "f = tf.add(tf.multiply(a,b),two)\n",
    "# f = a*b + 2 - so wärs au möglich\n",
    "\n",
    "\n",
    "sess = tf.compat.v1.Session()\n",
    "init = tf.compat.v1.global_variables_initializer()\n",
    "\n",
    "\n",
    "sess.run(init)\n",
    "result = sess.run(f)\n",
    "print(result)\n",
    "sess.close()\n",
    "\n"
   ]
  },
  {
   "cell_type": "markdown",
   "metadata": {},
   "source": [
    "# Mit Pfad (sonst gleich wie oben)"
   ]
  },
  {
   "cell_type": "code",
   "execution_count": 2,
   "metadata": {},
   "outputs": [
    {
     "name": "stdout",
     "output_type": "stream",
     "text": [
      "42\n"
     ]
    }
   ],
   "source": [
    "import tensorflow.compat.v1 as tf\n",
    "tf.disable_v2_behavior()\n",
    "\n",
    "a = tf.Variable(10, name = 'a')\n",
    "b = tf.Variable(4, name = 'b')\n",
    "two = tf.constant(2)\n",
    "\n",
    "\n",
    "f = tf.add(tf.multiply(a,b),two)\n",
    "# f = a*b + 2 - so wärs au möglich\n",
    "\n",
    "\n",
    "sess = tf.compat.v1.Session()\n",
    "init = tf.compat.v1.global_variables_initializer()\n",
    "LOGDIR = \"/home/cyrill/Desktop/logdir\"\n",
    "with sess:\n",
    "    writer = tf.summary.FileWriter(LOGDIR, sess.graph)\n",
    "    sess.run(init)\n",
    "    result = sess.run(f)\n",
    "    print(result)\n",
    "\n",
    "    "
   ]
  },
  {
   "cell_type": "markdown",
   "metadata": {},
   "source": [
    "# Zwei Scopes"
   ]
  },
  {
   "cell_type": "code",
   "execution_count": 9,
   "metadata": {},
   "outputs": [
    {
     "name": "stdout",
     "output_type": "stream",
     "text": [
      "42\n"
     ]
    }
   ],
   "source": [
    "import tensorflow.compat.v1 as tf\n",
    "tf.disable_v2_behavior()\n",
    "#tf.reset_default_graph()\n",
    "\n",
    "# f(a,b,c) = (a + b + 5)^2 + sqrt(c)\n",
    "\n",
    "with tf.name_scope(\"Multiplikation\"):\n",
    "    a = tf.Variable(10, name = 'a')\n",
    "    b = tf.Variable(4, name = 'b')\n",
    "    mult = tf.multiply(a,b)\n",
    "    \n",
    "with tf.name_scope(\"Addition\"):\n",
    "    two = tf.constant(2)\n",
    "    f = tf.add(mult, two)\n",
    "    \n",
    "# This is the programatic way of declaring a function\n",
    "\n",
    "LOGDIR = \"/home/cyrill/Desktop/logdir/\"\n",
    "\n",
    "sess = tf.compat.v1.Session()\n",
    "init = tf.compat.v1.global_variables_initializer()\n",
    "\n",
    "with sess:\n",
    "    writer = tf.summary.FileWriter(LOGDIR, sess.graph)\n",
    "    sess.run(init)\n",
    "    result = sess.run(f)\n",
    "    print(result)\n",
    "    "
   ]
  },
  {
   "cell_type": "code",
   "execution_count": null,
   "metadata": {},
   "outputs": [],
   "source": []
  }
 ],
 "metadata": {
  "kernelspec": {
   "display_name": "Python 3",
   "language": "python",
   "name": "python3"
  },
  "language_info": {
   "codemirror_mode": {
    "name": "ipython",
    "version": 3
   },
   "file_extension": ".py",
   "mimetype": "text/x-python",
   "name": "python",
   "nbconvert_exporter": "python",
   "pygments_lexer": "ipython3",
   "version": "3.7.6"
  }
 },
 "nbformat": 4,
 "nbformat_minor": 4
}
